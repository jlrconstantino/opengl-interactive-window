{
 "cells": [
  {
   "attachments": {},
   "cell_type": "markdown",
   "metadata": {},
   "source": [
    "# Fazendinha Contente\n",
    "## Trabalho II - Computação Gráfica\n",
    "### Membros do grupo:\n",
    "- Beatriz Aparecida Diniz, 11925430\n",
    "- João Lucas Rodrigues Constantino, 11795763\n",
    "- Leandro Sena, 9293060\n",
    "- Tulio Santana, 11795526"
   ]
  },
  {
   "cell_type": "code",
   "execution_count": 21,
   "metadata": {},
   "outputs": [
    {
     "name": "stdout",
     "output_type": "stream",
     "text": [
      "Requirement already satisfied: pywavefront in c:\\users\\jlcon\\anaconda3\\envs\\standard_environment\\lib\\site-packages (1.3.3)\n",
      "Note: you may need to restart the kernel to use updated packages.\n"
     ]
    }
   ],
   "source": [
    "# Para instalar a API PyWaveFront\n",
    "# Necessário para carregar os modelos\n",
    "%pip install pywavefront"
   ]
  },
  {
   "attachments": {},
   "cell_type": "markdown",
   "metadata": {},
   "source": [
    "# Inicialização da Janela"
   ]
  },
  {
   "cell_type": "code",
   "execution_count": 22,
   "metadata": {},
   "outputs": [],
   "source": [
    "# Dependências gerais\n",
    "import math\n",
    "\n",
    "# Dependências locais\n",
    "from utils.glfw_window import GLFWWindow\n",
    "from utils.opengl_session import OpenGLSession\n",
    "from utils.camera import RestrictedCamera\n",
    "from utils.components import *\n",
    "from utils.transformations import *\n",
    "\n",
    "# Propriedades da janela\n",
    "WINDOW_WIDTH = 1280\n",
    "WINDOW_HEIGHT = 720\n",
    "WINDOW_TITLE = \"Rave nas montanhas\"\n",
    "\n",
    "# Inicialização da janela e da sessão\n",
    "window = GLFWWindow(WINDOW_WIDTH, WINDOW_HEIGHT, WINDOW_TITLE)\n",
    "session = OpenGLSession(window)\n",
    "\n",
    "# Inicialização da câmera\n",
    "MIN_XPOS, MIN_YPOS, MIN_ZPOS = -10.0, -10.0, -10.0\n",
    "MAX_XPOS, MAX_YPOS, MAX_ZPOS = +10.0, +10.0, +10.0\n",
    "camera = RestrictedCamera (\n",
    "    speed = 0.2, \n",
    "    last_xpos=WINDOW_WIDTH/2, \n",
    "    last_ypos=WINDOW_HEIGHT/2, \n",
    "    min_xpos=MIN_XPOS, min_ypos=MIN_YPOS, min_zpos=MIN_ZPOS,\n",
    "    max_xpos=MAX_XPOS, max_ypos=MAX_YPOS, max_zpos=MAX_ZPOS\n",
    ")"
   ]
  },
  {
   "attachments": {},
   "cell_type": "markdown",
   "metadata": {},
   "source": [
    "# Construção dos Componentes"
   ]
  },
  {
   "cell_type": "code",
   "execution_count": 23,
   "metadata": {},
   "outputs": [
    {
     "name": "stderr",
     "output_type": "stream",
     "text": [
      "Unimplemented OBJ format statement 's' on line 's 1'\n"
     ]
    },
    {
     "name": "stderr",
     "output_type": "stream",
     "text": [
      "Unimplemented OBJ format statement 's' on line 's 1'\n",
      "Unimplemented OBJ format statement 's' on line 's 1'\n",
      "Unimplemented OBJ format statement 's' on line 's 1'\n",
      "Unimplemented OBJ format statement 's' on line 's off'\n",
      "Unimplemented OBJ format statement 's' on line 's 1'\n",
      "Unimplemented OBJ format statement 's' on line 's 1'\n",
      "Unimplemented OBJ format statement 's' on line 's 1'\n",
      "Unimplemented OBJ format statement 's' on line 's 1'\n",
      "Unimplemented OBJ format statement 's' on line 's 1'\n"
     ]
    }
   ],
   "source": [
    "# Definição dos Objetos e deslocamentos iniciais na cena\n",
    "\n",
    "# Modelo da Garota\n",
    "girl = WaveFrontObject (\n",
    "    \"obj/girl/girl OBJ.obj\"\n",
    ")\n",
    "girl.set_model(scale(0.6, 0.6, 0.6, girl.model))\n",
    "girl.set_model(translate(0.6, 10.8, 0.1, girl.model))\n",
    "\n",
    "# Modelo da Torre\n",
    "tower = WaveFrontObject(\"obj/tower/wooden watch tower2.obj\")\n",
    "tower.set_model(scale(3.0, 1.0, 1.0, tower.model))\n",
    "\n",
    "# Modelo da Lua\n",
    "moon = WaveFrontObject(\"obj/moon/Moon 2K.obj\")\n",
    "moon.set_model(translate(10.0, 20.0, 2.0, moon.model))\n",
    "\n",
    "# Modelo da Mesa\n",
    "table = WaveFrontObject(\"obj/table/table.obj\")\n",
    "table.set_model(scale(0.04, 0.04, 0.07, table.model))\n",
    "table.set_model(translate(-52.0, 161.75, 1.0, table.model))\n",
    "\n",
    "# Modelo do Penguin\n",
    "penguin = WaveFrontObject(\"obj/penguin/PenguinBaseMesh.obj\")\n",
    "penguin.set_model(scale(2.0, 2.0, 2.0, penguin.model))\n",
    "penguin.set_model(translate(2.0, 0.25, 2.0, penguin.model))\n",
    "\n",
    "# Modelo do Gerador\n",
    "generator = WaveFrontObject(\"obj/generator/Emergency_Backup_Generator-(Wavefront OBJ).obj\")\n",
    "generator.set_model(translate(-7.0, 2.50, 6.0, generator.model))\n",
    "\n",
    "# Modelo da Planta\n",
    "plant = WaveFrontObject(\"obj/plant/Low-Poly Plant_.obj\")\n",
    "plant.set_model(translate(-3.0, 6.5, -0.75, plant.model))\n",
    "\n",
    "# Modelo do Servidor\n",
    "server = WaveFrontObject(\"obj/server/server computer.obj\")\n",
    "server.set_model(scale(0.005, 0.005, 0.005, server.model))\n",
    "server.set_model(translate(1.0, 13.0, 10.0, server.model))\n",
    "\n",
    "# Registro das componentes na sessão\n",
    "session.add_components([girl, tower, moon, table, penguin, generator, plant, server])"
   ]
  },
  {
   "cell_type": "code",
   "execution_count": 24,
   "metadata": {},
   "outputs": [
    {
     "name": "stderr",
     "output_type": "stream",
     "text": [
      "Unimplemented OBJ format statement 's' on line 's 1'\n"
     ]
    }
   ],
   "source": [
    "# Para testes\n",
    "'''\n",
    "from pywavefront import Wavefront\n",
    "scene = Wavefront(\"obj/tower/wooden watch tower2.obj\")\n",
    "for name, material in scene.materials.items():\n",
    "    print(material.texture._path)\n",
    "'''"
   ]
  },
  {
   "attachments": {},
   "cell_type": "markdown",
   "metadata": {},
   "source": [
    "# Eventos de teclado e de mouse"
   ]
  },
  {
   "cell_type": "code",
   "execution_count": 26,
   "metadata": {},
   "outputs": [],
   "source": [
    "# Para aumentar ou diminuir a velocidade da câmera\n",
    "def modify_camera_speed(camera, increase=True):\n",
    "    original_speed = camera.speed\n",
    "    if increase == False:\n",
    "        original_speed *= -1\n",
    "    def closure(*_):\n",
    "        camera.speed += original_speed\n",
    "    return closure\n",
    "\n",
    "# Atribuição dos eventos de movimentação da câmera\n",
    "window.add_key_callback(\"W\", camera.move_forward)\n",
    "window.add_key_callback(\"D\", camera.move_right)\n",
    "window.add_key_callback(\"S\", camera.move_backward)\n",
    "window.add_key_callback(\"A\", camera.move_left)\n",
    "window.add_cursor_callback(camera.move_front)\n",
    "window.add_key_callback(\"Q\", modify_camera_speed(camera, False))\n",
    "window.add_key_callback(\"E\", modify_camera_speed(camera, True))"
   ]
  },
  {
   "attachments": {},
   "cell_type": "markdown",
   "metadata": {},
   "source": [
    "# Transformações"
   ]
  },
  {
   "cell_type": "code",
   "execution_count": 27,
   "metadata": {},
   "outputs": [],
   "source": [
    "# Atributos de controle dos modelos\n",
    "light_angle = 0.0\n",
    "girl_angle = 0.0\n",
    "\n",
    "# Para transformar a luz\n",
    "def transform_light():\n",
    "    global light_angle \n",
    "    light_angle += 1e-2\n",
    "    if light_angle > 2.0 * math.pi:\n",
    "        light_angle = 0.0\n",
    "    tx = math.cos(light_angle) * 10\n",
    "    ty = math.sin(light_angle) * 10\n",
    "    tz = 3.0\n",
    "    session.move_light(tx, ty, tz)\n",
    "\n",
    "# Para transformar a garota\n",
    "# ACHISMO DO TULIP: talvez seja bacana bindar pra uma tecla só, mas tbm n sei\n",
    "def transform_girl():\n",
    "    global girl_angle \n",
    "    girl_angle += 1e-5\n",
    "    if girl_angle > 2.0 * math.pi:\n",
    "        girl_angle = 0.0\n",
    "    girl.set_model(yrotate(girl_angle, girl.model))\n",
    "\n",
    "# Para transformar o penguin\n",
    "# Dxr o penguin se mexendo, círculos talvez ? preciso ver dps\n",
    "# Desconsidere os valores e situação dessa função por enquanto\n",
    "def transform_penguin():\n",
    "    penguin.set_model(translate(0.2, 0.01, 0.01, penguin.model))\n",
    "    penguin.set_model(xrotate(1e-1, penguin.model))"
   ]
  },
  {
   "attachments": {},
   "cell_type": "markdown",
   "metadata": {},
   "source": [
    "# Execução"
   ]
  },
  {
   "cell_type": "code",
   "execution_count": 28,
   "metadata": {},
   "outputs": [],
   "source": [
    "# Processamento dos buffers\n",
    "session.process_buffers()\n",
    "\n",
    "# Programa principal\n",
    "for _ in window.display():\n",
    "\n",
    "    # Limpeza da janela\n",
    "    session.clear()\n",
    "\n",
    "    # Posicionamento juntamente com a Lua, nossa fonte de luz neste caso\n",
    "    session.move_light(10.0, 20.0, 2.0)\n",
    "\n",
    "    # Transformações\n",
    "    transform_light()\n",
    "    transform_girl()\n",
    "\n",
    "    # Renderização\n",
    "    session.render()\n",
    "\n",
    "    # Visualização\n",
    "    session.view(camera.view)\n",
    "\n",
    "    # Projeção\n",
    "    session.projection(window.projection)"
   ]
  },
  {
   "cell_type": "code",
   "execution_count": null,
   "metadata": {},
   "outputs": [],
   "source": []
  }
 ],
 "metadata": {
  "kernelspec": {
   "display_name": "Python 3 (ipykernel)",
   "language": "python",
   "name": "python3"
  },
  "language_info": {
   "codemirror_mode": {
    "name": "ipython",
    "version": 3
   },
   "file_extension": ".py",
   "mimetype": "text/x-python",
   "name": "python",
   "nbconvert_exporter": "python",
   "pygments_lexer": "ipython3",
   "version": "3.9.12"
  }
 },
 "nbformat": 4,
 "nbformat_minor": 2
}
