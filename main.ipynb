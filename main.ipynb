{
 "cells": [
  {
   "attachments": {},
   "cell_type": "markdown",
   "metadata": {},
   "source": [
    "# Fazendinha Contente\n",
    "## Trabalho II - Computação Gráfica\n",
    "### Membros do grupo:\n",
    "- Beatriz Aparecida Diniz, 11925430\n",
    "- João Lucas Rodrigues Constantino, 11795763\n",
    "- Leandro Sena, 9293060\n",
    "- Tulio Santana, 11795526"
   ]
  },
  {
   "attachments": {},
   "cell_type": "markdown",
   "metadata": {},
   "source": [
    "# Inicialização de Janela"
   ]
  },
  {
   "cell_type": "code",
   "execution_count": 13,
   "metadata": {},
   "outputs": [],
   "source": [
    "# Dependências gerais\n",
    "import numpy as np\n",
    "\n",
    "# Dependências locais\n",
    "from utils.glfw_window import GLFWWindow\n",
    "from utils.opengl_session import OpenGLSession\n",
    "from utils.camera import Camera\n",
    "from utils.components import *\n",
    "from utils.transformations import *\n",
    "\n",
    "# Propriedades da janela\n",
    "WINDOW_WIDTH = 720\n",
    "WINDOW_HEIGHT = 480\n",
    "WINDOW_TITLE = \"Fazendinha Contente\"\n",
    "\n",
    "# Inicialização da janela, da sessão e da câmera\n",
    "window = GLFWWindow(WINDOW_WIDTH, WINDOW_HEIGHT, WINDOW_TITLE)\n",
    "session = OpenGLSession(window)\n",
    "camera = Camera(speed = 0.2, last_xpos=WINDOW_WIDTH/2, last_ypos=WINDOW_HEIGHT/2)"
   ]
  },
  {
   "attachments": {},
   "cell_type": "markdown",
   "metadata": {},
   "source": [
    "# Construção dos Componentes"
   ]
  },
  {
   "cell_type": "code",
   "execution_count": 14,
   "metadata": {},
   "outputs": [],
   "source": [
    "# Objeto do Mario\n",
    "mario = WaveFrontObject(\"obj/mario-model.obj\")\n",
    "model = scale(0.1, 0.1, 0.1)\n",
    "model = translate(-50.0, -50.0, 0.0, model)\n",
    "mario.model = model\n",
    "\n",
    "# Objeto da taça\n",
    "glass = WaveFrontObject(\"obj/Glass OBJ.obj\")\n",
    "\n",
    "session.add_components([mario, glass])"
   ]
  },
  {
   "attachments": {},
   "cell_type": "markdown",
   "metadata": {},
   "source": [
    "# Eventos de teclado e de mouse"
   ]
  },
  {
   "cell_type": "code",
   "execution_count": 15,
   "metadata": {},
   "outputs": [],
   "source": [
    "# Atribuição dos eventos de movimentação da câmera\n",
    "window.add_key_callback(\"W\", camera.move_forward)\n",
    "window.add_key_callback(\"D\", camera.move_right)\n",
    "window.add_key_callback(\"S\", camera.move_backward)\n",
    "window.add_key_callback(\"A\", camera.move_left)\n",
    "window.add_cursor_callback(camera.move_front)"
   ]
  },
  {
   "attachments": {},
   "cell_type": "markdown",
   "metadata": {},
   "source": [
    "# Execução"
   ]
  },
  {
   "cell_type": "code",
   "execution_count": 16,
   "metadata": {},
   "outputs": [],
   "source": [
    "# Processamento dos buffers\n",
    "session.process_buffers()\n",
    "\n",
    "# Modo poligonal\n",
    "session.enable_polygon_mode()\n",
    "\n",
    "# Programa principal\n",
    "for _ in window.display():\n",
    "\n",
    "    # Limpeza da janela\n",
    "    session.clear()\n",
    "\n",
    "    # Renderização\n",
    "    session.render()\n",
    "\n",
    "    # Visualização\n",
    "    session.view(camera.view)\n",
    "\n",
    "    # Projeção\n",
    "    session.projection(window.projection)"
   ]
  },
  {
   "cell_type": "code",
   "execution_count": null,
   "metadata": {},
   "outputs": [],
   "source": []
  }
 ],
 "metadata": {
  "kernelspec": {
   "display_name": "Python 3 (ipykernel)",
   "language": "python",
   "name": "python3"
  },
  "language_info": {
   "codemirror_mode": {
    "name": "ipython",
    "version": 3
   },
   "file_extension": ".py",
   "mimetype": "text/x-python",
   "name": "python",
   "nbconvert_exporter": "python",
   "pygments_lexer": "ipython3",
   "version": "3.9.12"
  }
 },
 "nbformat": 4,
 "nbformat_minor": 2
}
