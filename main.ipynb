{
 "cells": [
  {
   "attachments": {},
   "cell_type": "markdown",
   "metadata": {},
   "source": [
    "# Inicialização"
   ]
  },
  {
   "cell_type": "code",
   "execution_count": 5,
   "metadata": {},
   "outputs": [],
   "source": [
    "# Dependências gerais\n",
    "import numpy as np\n",
    "\n",
    "# Dependências locais\n",
    "from utils.glfw_window import GLFWWindow\n",
    "from utils.opengl_session import OpenGLSession\n",
    "from utils.components import Triangles, Rectangle, Square, Circle\n",
    "from utils.transformations import translate3D, scale3D, zrotate3D\n",
    "\n",
    "# Propriedades da janela\n",
    "WINDOW_WIDTH = 720\n",
    "WINDOW_HEIGHT = 480\n",
    "WINDOW_TITLE = \"Main\"\n",
    "\n",
    "# Inicialização da janela e da sessão\n",
    "window = GLFWWindow(WINDOW_WIDTH, WINDOW_HEIGHT, WINDOW_TITLE)\n",
    "session = OpenGLSession(window, num_dims=2)"
   ]
  },
  {
   "attachments": {},
   "cell_type": "markdown",
   "metadata": {},
   "source": [
    "# Componentes"
   ]
  },
  {
   "cell_type": "code",
   "execution_count": 6,
   "metadata": {},
   "outputs": [],
   "source": [
    "# Triângulos\n",
    "triangles = [\n",
    "    Triangles (\n",
    "        vertices = np.random.uniform(-0.7, 0.7, size=(3,2)), \n",
    "        color = np.hstack([np.random.normal(0.0, 1.0, size=3), (1.0)])\n",
    "    )\n",
    "    for _ in range(2)\n",
    "]\n",
    "\n",
    "# Retângulos e quadrados\n",
    "rectangles = [\n",
    "    Square (\n",
    "        side = 1.8, \n",
    "        color = np.hstack([np.random.normal(0.0, 1.0, size=3), (1.0)])\n",
    "    ), \n",
    "    Rectangle (\n",
    "        width = 1.0, \n",
    "        height = 1.5, \n",
    "        color = np.hstack([np.random.normal(0.0, 1.0, size=3), (1.0)])\n",
    "    )\n",
    "]\n",
    "\n",
    "# Círculos\n",
    "circles = [\n",
    "    Circle (\n",
    "        x0=np.random.uniform(-1.0, 1.0), \n",
    "        y0=np.random.uniform(-1.0, 1.0), \n",
    "        radius=np.random.uniform(0.0, 0.5), \n",
    "        color = np.hstack([np.random.normal(0.0, 1.0, size=3), (1.0)])\n",
    "    )\n",
    "    for _ in range(3)\n",
    "]\n",
    "\n",
    "# Registro das componentes\n",
    "session.add_components((rectangles, triangles, circles))"
   ]
  },
  {
   "attachments": {},
   "cell_type": "markdown",
   "metadata": {},
   "source": [
    "# Eventos de teclado e de mouse"
   ]
  },
  {
   "cell_type": "code",
   "execution_count": 7,
   "metadata": {},
   "outputs": [],
   "source": [
    "# Closure para transformação de translação\n",
    "def translate(session):\n",
    "    tx = 0.0\n",
    "    ty = 0.0\n",
    "    def closure(action):\n",
    "        nonlocal tx, ty, session\n",
    "        tx += 0.01\n",
    "        ty += 0.01\n",
    "        session.transform(translate3D(tx, ty))\n",
    "    return closure\n",
    "\n",
    "# Closure para transformação de escala\n",
    "def scale(session):\n",
    "    sx = 1.0\n",
    "    sy = 1.0\n",
    "    def closure(action):\n",
    "        nonlocal sx, sy, session\n",
    "        sx -= 0.01\n",
    "        sy -= 0.01\n",
    "        session.transform(scale3D(sx, sy))\n",
    "    return closure\n",
    "\n",
    "# Closure para transformação de rotação\n",
    "def rotate(session):\n",
    "    t = 0.0\n",
    "    def closure(action):\n",
    "        nonlocal t, session\n",
    "        t += np.pi/8\n",
    "        session.transform(zrotate3D(t))\n",
    "    return closure\n",
    "\n",
    "# Atribuição dos eventos de tecla\n",
    "window.add_key_callback(\"RIGHT\", translate(session))\n",
    "window.add_key_callback(\"DOWN\", scale(session))\n",
    "window.add_mouse_callback(0, rotate(session))"
   ]
  },
  {
   "attachments": {},
   "cell_type": "markdown",
   "metadata": {},
   "source": [
    "# Execução"
   ]
  },
  {
   "cell_type": "code",
   "execution_count": 8,
   "metadata": {},
   "outputs": [],
   "source": [
    "# Processamento dos buffers\n",
    "session.process_buffers()\n",
    "\n",
    "# Programa principal\n",
    "for _ in window.display():\n",
    "\n",
    "    # Limpeza da janela\n",
    "    session.clear()\n",
    "\n",
    "    # Renderização\n",
    "    session.render()"
   ]
  },
  {
   "cell_type": "code",
   "execution_count": null,
   "metadata": {},
   "outputs": [],
   "source": []
  }
 ],
 "metadata": {
  "kernelspec": {
   "display_name": "standard_environment",
   "language": "python",
   "name": "python3"
  },
  "language_info": {
   "codemirror_mode": {
    "name": "ipython",
    "version": 3
   },
   "file_extension": ".py",
   "mimetype": "text/x-python",
   "name": "python",
   "nbconvert_exporter": "python",
   "pygments_lexer": "ipython3",
   "version": "3.9.12"
  },
  "orig_nbformat": 4
 },
 "nbformat": 4,
 "nbformat_minor": 2
}
