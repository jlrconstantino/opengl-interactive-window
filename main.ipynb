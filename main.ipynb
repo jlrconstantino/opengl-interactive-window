{
 "cells": [
  {
   "attachments": {},
   "cell_type": "markdown",
   "metadata": {},
   "source": [
    "# Fazendinha Contente\n",
    "## Trabalho II - Computação Gráfica\n",
    "### Membros do grupo:\n",
    "- Beatriz Aparecida Diniz, 11925430\n",
    "- João Lucas Rodrigues Constantino, 11795763\n",
    "- Leandro Sena, 9293060\n",
    "- Tulio Santana, 11795526"
   ]
  },
  {
   "attachments": {},
   "cell_type": "markdown",
   "metadata": {},
   "source": [
    "# Inicialização da Janela"
   ]
  },
  {
   "cell_type": "code",
   "execution_count": 1,
   "metadata": {},
   "outputs": [
    {
     "name": "stdout",
     "output_type": "stream",
     "text": [
      "Requirement already satisfied: pywavefront in c:\\users\\jlcon\\anaconda3\\envs\\standard_environment\\lib\\site-packages (1.3.3)\n"
     ]
    }
   ],
   "source": [
    "# Para instalar a API PyWaveFront\n",
    "!pip install pywavefront"
   ]
  },
  {
   "cell_type": "code",
   "execution_count": 2,
   "metadata": {},
   "outputs": [],
   "source": [
    "# Dependências gerais\n",
    "import math\n",
    "\n",
    "# Dependências locais\n",
    "from utils.glfw_window import GLFWWindow\n",
    "from utils.opengl_session import OpenGLSession\n",
    "from utils.camera import Camera\n",
    "from utils.components import *\n",
    "from utils.transformations import *\n",
    "\n",
    "# Propriedades da janela\n",
    "WINDOW_WIDTH = 1280\n",
    "WINDOW_HEIGHT = 720\n",
    "WINDOW_TITLE = \"Fazendinha Contente\"\n",
    "\n",
    "# Inicialização da janela, da sessão e da câmera\n",
    "window = GLFWWindow(WINDOW_WIDTH, WINDOW_HEIGHT, WINDOW_TITLE)\n",
    "session = OpenGLSession(window)\n",
    "camera = Camera(speed = 0.2, last_xpos=WINDOW_WIDTH/2, last_ypos=WINDOW_HEIGHT/2)"
   ]
  },
  {
   "attachments": {},
   "cell_type": "markdown",
   "metadata": {},
   "source": [
    "# Construção dos Componentes"
   ]
  },
  {
   "cell_type": "code",
   "execution_count": 3,
   "metadata": {},
   "outputs": [
    {
     "name": "stderr",
     "output_type": "stream",
     "text": [
      "Unimplemented OBJ format statement 's' on line 's 1'\n"
     ]
    },
    {
     "name": "stderr",
     "output_type": "stream",
     "text": [
      "Unimplemented OBJ format statement 's' on line 's 1'\n",
      "Unimplemented OBJ format statement 's' on line 's 1'\n",
      "Unimplemented OBJ format statement 's' on line 's 1'\n",
      "Unimplemented OBJ format statement 's' on line 's off'\n",
      "Unimplemented OBJ format statement 's' on line 's 1'\n",
      "Unimplemented OBJ format statement 's' on line 's 1'\n",
      "Unimplemented OBJ format statement 's' on line 's 1'\n",
      "Unimplemented OBJ format statement 's' on line 's 1'\n"
     ]
    }
   ],
   "source": [
    "# Garota\n",
    "girl = WaveFrontObject(\"obj/girl/girl OBJ.obj\")\n",
    "\n",
    "# Registro das componentes\n",
    "session.add_component(girl)"
   ]
  },
  {
   "attachments": {},
   "cell_type": "markdown",
   "metadata": {},
   "source": [
    "# Eventos de teclado e de mouse"
   ]
  },
  {
   "cell_type": "code",
   "execution_count": 4,
   "metadata": {},
   "outputs": [],
   "source": [
    "# Para aumentar ou diminuir a velocidade da câmera\n",
    "def modify_camera_speed(camera, increase=True):\n",
    "    original_speed = camera.speed\n",
    "    if increase == False:\n",
    "        original_speed *= -1\n",
    "    def closure(*_):\n",
    "        camera.speed += original_speed\n",
    "    return closure\n",
    "\n",
    "# Atribuição dos eventos de movimentação da câmera\n",
    "window.add_key_callback(\"W\", camera.move_forward)\n",
    "window.add_key_callback(\"D\", camera.move_right)\n",
    "window.add_key_callback(\"S\", camera.move_backward)\n",
    "window.add_key_callback(\"A\", camera.move_left)\n",
    "window.add_cursor_callback(camera.move_front)\n",
    "window.add_key_callback(\"Q\", modify_camera_speed(camera, False))\n",
    "window.add_key_callback(\"E\", modify_camera_speed(camera, True))"
   ]
  },
  {
   "attachments": {},
   "cell_type": "markdown",
   "metadata": {},
   "source": [
    "# Execução"
   ]
  },
  {
   "cell_type": "code",
   "execution_count": 5,
   "metadata": {},
   "outputs": [],
   "source": [
    "# Atributos de controle dos modelos\n",
    "light_angle = 0.0\n",
    "box_angle = 0.0\n",
    "\n",
    "# Para transformar a luz\n",
    "def transform_light():\n",
    "    global light_angle \n",
    "    light_angle += 0.01\n",
    "    tx = math.cos(light_angle) * 10\n",
    "    ty = math.sin(light_angle) * 10\n",
    "    tz = 3.0\n",
    "    session.move_light(tx, ty, tz)\n",
    "    light.model = translate(tx, ty, tz)\n",
    "\n",
    "# Para transformar a caixa\n",
    "def transform_box():\n",
    "    global box_angle \n",
    "    box_angle += 1e-5\n",
    "    box.model = xrotate(box_angle, box.model)"
   ]
  },
  {
   "cell_type": "code",
   "execution_count": 6,
   "metadata": {},
   "outputs": [],
   "source": [
    "# Processamento dos buffers\n",
    "session.process_buffers()\n",
    "\n",
    "# Programa principal\n",
    "for _ in window.display():\n",
    "\n",
    "    # Limpeza da janela\n",
    "    session.clear()\n",
    "\n",
    "    # Renderização\n",
    "    session.render()\n",
    "\n",
    "    # Visualização\n",
    "    session.view(camera.view)\n",
    "\n",
    "    # Projeção\n",
    "    session.projection(window.projection)"
   ]
  },
  {
   "cell_type": "code",
   "execution_count": null,
   "metadata": {},
   "outputs": [],
   "source": []
  }
 ],
 "metadata": {
  "kernelspec": {
   "display_name": "Python 3 (ipykernel)",
   "language": "python",
   "name": "python3"
  },
  "language_info": {
   "codemirror_mode": {
    "name": "ipython",
    "version": 3
   },
   "file_extension": ".py",
   "mimetype": "text/x-python",
   "name": "python",
   "nbconvert_exporter": "python",
   "pygments_lexer": "ipython3",
   "version": "3.9.12"
  }
 },
 "nbformat": 4,
 "nbformat_minor": 2
}
